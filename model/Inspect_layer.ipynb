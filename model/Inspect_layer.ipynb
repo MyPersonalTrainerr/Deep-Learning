{
  "nbformat": 4,
  "nbformat_minor": 0,
  "metadata": {
    "colab": {
      "name": "Inspect_layer.ipynb",
      "provenance": [],
      "authorship_tag": "ABX9TyNTHTrRUyMxVpaJIbFqOxRp",
      "include_colab_link": true
    },
    "kernelspec": {
      "name": "python3",
      "display_name": "Python 3"
    },
    "language_info": {
      "name": "python"
    }
  },
  "cells": [
    {
      "cell_type": "markdown",
      "metadata": {
        "id": "view-in-github",
        "colab_type": "text"
      },
      "source": [
        "<a href=\"https://colab.research.google.com/github/MyPersonalTrainerr/Deep-Learning/blob/main/model/Inspect_layer.ipynb\" target=\"_parent\"><img src=\"https://colab.research.google.com/assets/colab-badge.svg\" alt=\"Open In Colab\"/></a>"
      ]
    },
    {
      "cell_type": "code",
      "execution_count": 1,
      "metadata": {
        "colab": {
          "base_uri": "https://localhost:8080/"
        },
        "id": "ZSWvD_qIVv_n",
        "outputId": "156c1904-b123-4aa2-fedc-f5dc0c5375ea"
      },
      "outputs": [
        {
          "output_type": "stream",
          "name": "stdout",
          "text": [
            "Cloning into 'mediapipe'...\n",
            "remote: Enumerating objects: 12113, done.\u001b[K\n",
            "remote: Counting objects: 100% (191/191), done.\u001b[K\n",
            "remote: Compressing objects: 100% (166/166), done.\u001b[K\n",
            "remote: Total 12113 (delta 40), reused 52 (delta 19), pack-reused 11922\u001b[K\n",
            "Receiving objects: 100% (12113/12113), 529.47 MiB | 11.88 MiB/s, done.\n",
            "Resolving deltas: 100% (8470/8470), done.\n",
            "Checking out files: 100% (2402/2402), done.\n"
          ]
        }
      ],
      "source": [
        "!git clone https://github.com/google/mediapipe.git"
      ]
    },
    {
      "cell_type": "code",
      "source": [
        "%cd mediapipe"
      ],
      "metadata": {
        "colab": {
          "base_uri": "https://localhost:8080/"
        },
        "id": "IEYxRSgUWZ9j",
        "outputId": "9b64296b-aa94-4acf-a73d-306d338a2ff5"
      },
      "execution_count": 3,
      "outputs": [
        {
          "output_type": "stream",
          "name": "stdout",
          "text": [
            "/content/mediapipe\n"
          ]
        }
      ]
    },
    {
      "cell_type": "code",
      "source": [
        "import tensorflow as tf\n",
        "\n",
        "# Load TFLite model and allocate tensors.\n",
        "interpreter = tf.lite.Interpreter(model_path=\"mediapipe/modules/pose_landmark/pose_landmark_lite.tflite\")\n",
        "# Get input and output tensors.\n",
        "input_details = interpreter.get_input_details()\n",
        "output_details = interpreter.get_output_details()\n",
        "\n",
        "interpreter.allocate_tensors()\n",
        "\n",
        "# input details\n",
        "print(input_details)\n",
        "print(\"=========================\")\n",
        "\n",
        "# output details\n",
        "for output in output_details:\n",
        "  print(output)\n",
        "print(\"=========================\")"
      ],
      "metadata": {
        "colab": {
          "base_uri": "https://localhost:8080/"
        },
        "id": "Dk7w6gNtVx9I",
        "outputId": "0d47d4fc-f629-4a69-d016-a67d45b21863"
      },
      "execution_count": 4,
      "outputs": [
        {
          "output_type": "stream",
          "name": "stdout",
          "text": [
            "[{'name': 'input_1', 'index': 0, 'shape': array([  1, 256, 256,   3], dtype=int32), 'shape_signature': array([  1, 256, 256,   3], dtype=int32), 'dtype': <class 'numpy.float32'>, 'quantization': (0.0, 0), 'quantization_parameters': {'scales': array([], dtype=float32), 'zero_points': array([], dtype=int32), 'quantized_dimension': 0}, 'sparsity_parameters': {}}]\n",
            "=========================\n",
            "{'name': 'Identity', 'index': 310, 'shape': array([  1, 195], dtype=int32), 'shape_signature': array([  1, 195], dtype=int32), 'dtype': <class 'numpy.float32'>, 'quantization': (0.0, 0), 'quantization_parameters': {'scales': array([], dtype=float32), 'zero_points': array([], dtype=int32), 'quantized_dimension': 0}, 'sparsity_parameters': {}}\n",
            "{'name': 'Identity_1', 'index': 315, 'shape': array([1, 1], dtype=int32), 'shape_signature': array([1, 1], dtype=int32), 'dtype': <class 'numpy.float32'>, 'quantization': (0.0, 0), 'quantization_parameters': {'scales': array([], dtype=float32), 'zero_points': array([], dtype=int32), 'quantized_dimension': 0}, 'sparsity_parameters': {}}\n",
            "{'name': 'Identity_2', 'index': 282, 'shape': array([  1, 256, 256,   1], dtype=int32), 'shape_signature': array([  1, 256, 256,   1], dtype=int32), 'dtype': <class 'numpy.float32'>, 'quantization': (0.0, 0), 'quantization_parameters': {'scales': array([], dtype=float32), 'zero_points': array([], dtype=int32), 'quantized_dimension': 0}, 'sparsity_parameters': {}}\n",
            "{'name': 'Identity_3', 'index': 283, 'shape': array([ 1, 64, 64, 39], dtype=int32), 'shape_signature': array([ 1, 64, 64, 39], dtype=int32), 'dtype': <class 'numpy.float32'>, 'quantization': (0.0, 0), 'quantization_parameters': {'scales': array([], dtype=float32), 'zero_points': array([], dtype=int32), 'quantized_dimension': 0}, 'sparsity_parameters': {}}\n",
            "{'name': 'Identity_4', 'index': 312, 'shape': array([  1, 117], dtype=int32), 'shape_signature': array([  1, 117], dtype=int32), 'dtype': <class 'numpy.float32'>, 'quantization': (0.0, 0), 'quantization_parameters': {'scales': array([], dtype=float32), 'zero_points': array([], dtype=int32), 'quantized_dimension': 0}, 'sparsity_parameters': {}}\n",
            "=========================\n"
          ]
        }
      ]
    },
    {
      "cell_type": "code",
      "source": [
        "# get details for each layer\n",
        "all_layers_details = interpreter.get_tensor_details() \n",
        "# for layer in all_layers_details:\n",
        "#   print(layer) "
      ],
      "metadata": {
        "id": "gilr-G4yV4Xv"
      },
      "execution_count": 5,
      "outputs": []
    },
    {
      "cell_type": "code",
      "source": [
        "%cd .."
      ],
      "metadata": {
        "colab": {
          "base_uri": "https://localhost:8080/"
        },
        "id": "jQ01xvC3Wr9z",
        "outputId": "40df5d4c-958b-4790-946c-cec07c35b457"
      },
      "execution_count": 6,
      "outputs": [
        {
          "output_type": "stream",
          "name": "stdout",
          "text": [
            "/content\n"
          ]
        }
      ]
    },
    {
      "cell_type": "code",
      "source": [
        "import csv\n",
        "\n",
        "csv_columns = ['name','index','shape', 'shape_signature', 'dtype', 'quantization', 'quantization_parameters', 'sparsity_parameters' ]\n",
        "csv_file = \"Layers.csv\"\n",
        "try:\n",
        "    with open(csv_file, 'w') as csvfile:\n",
        "        writer = csv.DictWriter(csvfile, fieldnames=csv_columns)\n",
        "        writer.writeheader()\n",
        "        for layer in all_layers_details:\n",
        "            writer.writerow(layer)\n",
        "except IOError:\n",
        "    print(\"I/O error\")"
      ],
      "metadata": {
        "id": "DIU_mca5V7O2"
      },
      "execution_count": 8,
      "outputs": []
    }
  ]
}